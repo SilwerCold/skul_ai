{
 "cells": [
  {
   "cell_type": "code",
   "execution_count": 1,
   "metadata": {},
   "outputs": [],
   "source": [
    "import cv2\n",
    "import numpy as np"
   ]
  },
  {
   "cell_type": "code",
   "execution_count": 73,
   "metadata": {},
   "outputs": [],
   "source": [
    "def model_recognition(img, template):\n",
    "    # Convert both images to grayscale\n",
    "    img_gray = cv2.cvtColor(img, cv2.COLOR_BGR2GRAY)\n",
    "    template_gray = cv2.cvtColor(template, cv2.COLOR_BGR2GRAY)\n",
    "\n",
    "    # Initialize the SIFT feature detector and descriptor extractor\n",
    "    sift = cv2.xfeatures2d.SIFT_create()\n",
    "\n",
    "    # Detect keypoints and extract descriptors from both images\n",
    "    kp1, des1 = sift.detectAndCompute(template_gray, None)\n",
    "    kp2, des2 = sift.detectAndCompute(img_gray, None)\n",
    "\n",
    "    # Initialize the Brute-Force Matcher and match the descriptors between the two images\n",
    "    bf = cv2.BFMatcher(cv2.NORM_L2, crossCheck=True)\n",
    "    matches = bf.match(des1, des2)\n",
    "\n",
    "    # Select only the good matches based on a threshold\n",
    "    good_matches = []\n",
    "    for m in matches:\n",
    "        if m.distance < 0.5 * min(len(des1), len(des2)):\n",
    "            good_matches.append(m)\n",
    "\n",
    "    # Calculate the transformation between the object template and the image using the good matches\n",
    "    src_pts = np.float32([ kp1[m.queryIdx].pt for m in good_matches ]).reshape(-1,1,2)\n",
    "    dst_pts = np.float32([ kp2[m.trainIdx].pt for m in good_matches ]).reshape(-1,1,2)\n",
    "    if src_pts.size>6 and dst_pts.size>6:\n",
    "        M, _ = cv2.findHomography(src_pts, dst_pts, cv2.RANSAC, 5.0)\n",
    "        if M.size>0:\n",
    "\n",
    "            # Draw a bounding box around the object in the image using the calculated transformation\n",
    "            h, w = template_gray.shape\n",
    "            pts = np.float32([ [0,0], [0,h-1], [w-1,h-1], [w-1,0] ]).reshape(-1,1,2)\n",
    "            dst = cv2.perspectiveTransform(pts, M)\n",
    "            img = cv2.polylines(img, [np.int32(dst)], True, (0,0,255), 2)\n",
    "            return img\n",
    "        else:\n",
    "            return np.array([])\n",
    "    else:\n",
    "        return np.array([])\n"
   ]
  },
  {
   "cell_type": "code",
   "execution_count": 75,
   "metadata": {},
   "outputs": [],
   "source": [
    "import os\n",
    "templates = os.listdir('sprites/alchemist')\n",
    "t = cv2.imread('sprites/Alchemist_Sprite.png')\n",
    "img = cv2.imread('screens/ikran3.png')[:870, :]\n",
    "for x in templates:\n",
    "    tmplt = cv2.imread(f'sprites/alchemist/{x}')\n",
    "    tmplt = cv2.resize(tmplt, (120,140), interpolation=cv2.INTER_NEAREST)\n",
    "    res = model_recognition(img, tmplt)\n",
    "    if res.any() != 0:\n",
    "        cv2.imshow('result', res)\n",
    "        cv2.waitKey(0)\n",
    "        cv2.destroyAllWindows()\n",
    "        break"
   ]
  }
 ],
 "metadata": {
  "kernelspec": {
   "display_name": ".venv",
   "language": "python",
   "name": "python3"
  },
  "language_info": {
   "codemirror_mode": {
    "name": "ipython",
    "version": 3
   },
   "file_extension": ".py",
   "mimetype": "text/x-python",
   "name": "python",
   "nbconvert_exporter": "python",
   "pygments_lexer": "ipython3",
   "version": "3.11.6"
  }
 },
 "nbformat": 4,
 "nbformat_minor": 2
}
