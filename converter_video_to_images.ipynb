{
 "cells": [
  {
   "cell_type": "code",
   "execution_count": 1,
   "metadata": {},
   "outputs": [
    {
     "name": "stdout",
     "output_type": "stream",
     "text": [
      "3\n",
      "[('dataset/video/2023-11-09 13-16-57.mkv', 0, 35917), ('dataset/video/2023-11-09 13-16-57.mkv', 35918, 71834), ('dataset/video/2023-11-09 13-16-57.mkv', 71835, 107751)]\n"
     ]
    }
   ],
   "source": [
    "import cv2\n",
    "import os\n",
    "from multiprocessing import Pool\n",
    "from datetime import datetime\n",
    "\n",
    "def process_video_part(args):\n",
    "    video, start_frame, end_frame = args\n",
    "    vidcap = cv2.VideoCapture(video)\n",
    "\n",
    "    vidcap.set(cv2.CAP_PROP_POS_FRAMES, start_frame)\n",
    "    while start_frame < end_frame and vidcap.isOpened():\n",
    "        success, image = vidcap.read()\n",
    "        if success:\n",
    "            if start_frame % 3 == 0:  # Save every 3rd frame\n",
    "                now = datetime.now().strftime(\"%d.%m.%y_%H:%M:%S.%f\")[:-3]\n",
    "                cv2.imwrite(os.path.join('dataset/images', f'{now}.png'), image)\n",
    "            start_frame += 1\n",
    "        else:\n",
    "            break\n",
    "    vidcap.release()\n",
    "\n",
    "def video_to_frames_parallel(video, num_parts=2):\n",
    "    vidcap = cv2.VideoCapture(video)\n",
    "    total_frames = int(vidcap.get(cv2.CAP_PROP_FRAME_COUNT))\n",
    "    vidcap.release()\n",
    "\n",
    "    frames_list = []\n",
    "\n",
    "    for i in range(1, num_parts+1):\n",
    "        end_frame = int(total_frames * (i/num_parts))\n",
    "        frames_list.append((video, frames_list[i-2][2] + 1 if i > 1 else 0, end_frame))\n",
    "\n",
    "    with Pool(num_parts) as pl:\n",
    "        pl.map(process_video_part, frames_list)\n",
    "\n",
    "    cv2.destroyAllWindows()\n",
    "\n",
    "video_to_frames_parallel('dataset/video/2023-11-09 13-16-57.mkv', num_parts=3)\n"
   ]
  }
 ],
 "metadata": {
  "kernelspec": {
   "display_name": ".venv",
   "language": "python",
   "name": "python3"
  },
  "language_info": {
   "codemirror_mode": {
    "name": "ipython",
    "version": 3
   },
   "file_extension": ".py",
   "mimetype": "text/x-python",
   "name": "python",
   "nbconvert_exporter": "python",
   "pygments_lexer": "ipython3",
   "version": "3.11.6"
  }
 },
 "nbformat": 4,
 "nbformat_minor": 2
}
