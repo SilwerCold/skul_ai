{
 "cells": [
  {
   "cell_type": "code",
   "execution_count": 1,
   "metadata": {},
   "outputs": [
    {
     "ename": "KeyboardInterrupt",
     "evalue": "",
     "output_type": "error",
     "traceback": [
      "\u001b[0;31m---------------------------------------------------------------------------\u001b[0m",
      "\u001b[0;31mKeyboardInterrupt\u001b[0m                         Traceback (most recent call last)",
      "\u001b[1;32m/home/abdurohman/Project/AI/skul_ai/converter_video_to_images.ipynb Cell 1\u001b[0m line \u001b[0;36m2\n\u001b[1;32m     <a href='vscode-notebook-cell:/home/abdurohman/Project/AI/skul_ai/converter_video_to_images.ipynb#W0sZmlsZQ%3D%3D?line=18'>19</a>\u001b[0m     cv2\u001b[39m.\u001b[39mdestroyAllWindows()\n\u001b[1;32m     <a href='vscode-notebook-cell:/home/abdurohman/Project/AI/skul_ai/converter_video_to_images.ipynb#W0sZmlsZQ%3D%3D?line=19'>20</a>\u001b[0m     vidcap\u001b[39m.\u001b[39mrelease()\n\u001b[0;32m---> <a href='vscode-notebook-cell:/home/abdurohman/Project/AI/skul_ai/converter_video_to_images.ipynb#W0sZmlsZQ%3D%3D?line=21'>22</a>\u001b[0m video_to_frames(\u001b[39m'\u001b[39;49m\u001b[39mdataset/video/2023-11-09 13-16-57.mkv\u001b[39;49m\u001b[39m'\u001b[39;49m, \u001b[39m'\u001b[39;49m\u001b[39mdataset/images\u001b[39;49m\u001b[39m'\u001b[39;49m)\n",
      "\u001b[1;32m/home/abdurohman/Project/AI/skul_ai/converter_video_to_images.ipynb Cell 1\u001b[0m line \u001b[0;36m1\n\u001b[1;32m     <a href='vscode-notebook-cell:/home/abdurohman/Project/AI/skul_ai/converter_video_to_images.ipynb#W0sZmlsZQ%3D%3D?line=11'>12</a>\u001b[0m \u001b[39mif\u001b[39;00m success:\n\u001b[1;32m     <a href='vscode-notebook-cell:/home/abdurohman/Project/AI/skul_ai/converter_video_to_images.ipynb#W0sZmlsZQ%3D%3D?line=12'>13</a>\u001b[0m     \u001b[39mif\u001b[39;00m count \u001b[39m%\u001b[39m \u001b[39m3\u001b[39m \u001b[39m==\u001b[39m \u001b[39m0\u001b[39m:  \u001b[39m# Save every 3th frame\u001b[39;00m\n\u001b[0;32m---> <a href='vscode-notebook-cell:/home/abdurohman/Project/AI/skul_ai/converter_video_to_images.ipynb#W0sZmlsZQ%3D%3D?line=13'>14</a>\u001b[0m         cv2\u001b[39m.\u001b[39;49mimwrite(os\u001b[39m.\u001b[39;49mpath\u001b[39m.\u001b[39;49mjoin(path_output_dir, \u001b[39m'\u001b[39;49m\u001b[39m%d\u001b[39;49;00m\u001b[39m.png\u001b[39;49m\u001b[39m'\u001b[39;49m) \u001b[39m%\u001b[39;49m saved_count, image)\n\u001b[1;32m     <a href='vscode-notebook-cell:/home/abdurohman/Project/AI/skul_ai/converter_video_to_images.ipynb#W0sZmlsZQ%3D%3D?line=14'>15</a>\u001b[0m         saved_count \u001b[39m+\u001b[39m\u001b[39m=\u001b[39m \u001b[39m1\u001b[39m\n\u001b[1;32m     <a href='vscode-notebook-cell:/home/abdurohman/Project/AI/skul_ai/converter_video_to_images.ipynb#W0sZmlsZQ%3D%3D?line=15'>16</a>\u001b[0m     count \u001b[39m+\u001b[39m\u001b[39m=\u001b[39m \u001b[39m1\u001b[39m\n",
      "\u001b[0;31mKeyboardInterrupt\u001b[0m: "
     ]
    }
   ],
   "source": [
    "import cv2\n",
    "import os\n",
    "\n",
    "def video_to_frames(video, path_output_dir):\n",
    "    # extract frames from a video and save to directory as 'x.png' where\n",
    "    # x is the frame index\n",
    "    vidcap = cv2.VideoCapture(video)\n",
    "    count = 0\n",
    "    saved_count = 0  # Variable to keep track of saved frames\n",
    "    while vidcap.isOpened():\n",
    "        success, image = vidcap.read()\n",
    "        if success:\n",
    "            if count % 3 == 0:  # Save every 3th frame\n",
    "                cv2.imwrite(os.path.join(path_output_dir, '%d.png') % saved_count, image)\n",
    "                saved_count += 1\n",
    "            count += 1\n",
    "        else:\n",
    "            break\n",
    "    cv2.destroyAllWindows()\n",
    "    vidcap.release()\n",
    "\n",
    "video_to_frames('dataset/video/2023-11-09 13-16-57.mkv', 'dataset/images')\n"
   ]
  },
  {
   "cell_type": "code",
   "execution_count": null,
   "metadata": {},
   "outputs": [],
   "source": [
    "import cv2\n",
    "import os\n",
    "import concurrent.futures\n",
    "\n",
    "def process_video_part(video, path_output_dir, start_frame, end_frame, saved_count):\n",
    "    vidcap = cv2.VideoCapture(video)\n",
    "    count = 0\n",
    "    while count < start_frame:\n",
    "        success, _ = vidcap.read()\n",
    "        count += 1\n",
    "    while count < end_frame and vidcap.isOpened():\n",
    "        success, image = vidcap.read()\n",
    "        if success:\n",
    "            if count % 3 == 0:  # Save every 3rd frame\n",
    "                cv2.imwrite(os.path.join(path_output_dir, f'{saved_count}.png'), image)\n",
    "                saved_count += 1\n",
    "            count += 1\n",
    "        else:\n",
    "            break\n",
    "    vidcap.release()\n",
    "\n",
    "def video_to_frames_parallel(video, path_output_dir, num_parts=4):\n",
    "    vidcap = cv2.VideoCapture(video)\n",
    "    total_frames = int(vidcap.get(cv2.CAP_PROP_FRAME_COUNT))\n",
    "    frames_per_part = total_frames // num_parts\n",
    "    vidcap.release()\n",
    "\n",
    "    with concurrent.futures.ProcessPoolExecutor() as executor:\n",
    "        futures = []\n",
    "        saved_count = 0\n",
    "        for i in range(num_parts):\n",
    "            start_frame = i * frames_per_part\n",
    "            end_frame = (i + 1) * frames_per_part if i < num_parts - 1 else total_frames\n",
    "            futures.append(executor.submit(process_video_part, video, path_output_dir, start_frame, end_frame, saved_count))\n",
    "            saved_count += (end_frame - start_frame) // 3\n",
    "\n",
    "        for future in concurrent.futures.as_completed(futures):\n",
    "            future.result()\n",
    "\n",
    "    cv2.destroyAllWindows()\n",
    "\n",
    "video_to_frames_parallel('dataset/video/2023-11-09 13-16-57.mkv', 'dataset/images', num_parts=4)\n"
   ]
  }
 ],
 "metadata": {
  "kernelspec": {
   "display_name": ".venv",
   "language": "python",
   "name": "python3"
  },
  "language_info": {
   "codemirror_mode": {
    "name": "ipython",
    "version": 3
   },
   "file_extension": ".py",
   "mimetype": "text/x-python",
   "name": "python",
   "nbconvert_exporter": "python",
   "pygments_lexer": "ipython3",
   "version": "3.11.6"
  }
 },
 "nbformat": 4,
 "nbformat_minor": 2
}
