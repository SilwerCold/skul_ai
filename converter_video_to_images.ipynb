{
 "cells": [
  {
   "cell_type": "code",
   "execution_count": 1,
   "metadata": {},
   "outputs": [],
   "source": [
    "import cv2\n",
    "import os\n",
    "from multiprocessing import Pool\n",
    "from datetime import datetime\n"
   ]
  },
  {
   "cell_type": "code",
   "execution_count": 51,
   "metadata": {},
   "outputs": [],
   "source": [
    "def process_video_part(args):\n",
    "    video, start_frame, end_frame = args\n",
    "    vidcap = cv2.VideoCapture(video)\n",
    "\n",
    "    vidcap.set(cv2.CAP_PROP_POS_FRAMES, start_frame)\n",
    "    while start_frame < end_frame and vidcap.isOpened():\n",
    "        success, image = vidcap.read()\n",
    "        if success:\n",
    "            if start_frame % 3 == 0:  # Save every 3rd frame\n",
    "                now = datetime.now().strftime(\"%d.%m.%y_%H:%M:%S.%f\")[:-3]\n",
    "                cv2.imwrite(os.path.join('dataset/images', f'{now}.png'), image)\n",
    "            start_frame += 1\n",
    "        else:\n",
    "            break\n",
    "    vidcap.release()\n",
    "\n",
    "def video_to_frames_parallel(video, num_parts=2):\n",
    "    vidcap = cv2.VideoCapture(video)\n",
    "    total_frames = int(vidcap.get(cv2.CAP_PROP_FRAME_COUNT))\n",
    "    vidcap.release()\n",
    "\n",
    "    frames_list = []\n",
    "\n",
    "    for i in range(1, num_parts+1):\n",
    "        end_frame = int(total_frames * (i/num_parts))\n",
    "        frames_list.append((video, frames_list[i-2][2] + 1 if i > 1 else 0, end_frame))\n",
    "\n",
    "    with Pool(num_parts) as pl:\n",
    "        pl.map(process_video_part, frames_list)\n",
    "\n",
    "    cv2.destroyAllWindows()\n",
    "\n",
    "video_to_frames_parallel('dataset/video/2023-11-09 13-16-57.mkv', num_parts=3)\n"
   ]
  },
  {
   "cell_type": "code",
   "execution_count": 5,
   "metadata": {},
   "outputs": [
    {
     "name": "stdout",
     "output_type": "stream",
     "text": [
      "0\n",
      "0\n",
      "0\n"
     ]
    }
   ],
   "source": [
    "def is_image_broken(image_path):\n",
    "    try:\n",
    "        img = cv2.imread(image_path, cv2.IMREAD_UNCHANGED)\n",
    "        if img is None:\n",
    "            return True\n",
    "        return False\n",
    "    except Exception as e:\n",
    "        return True\n",
    "\n",
    "def delete_broken_images(args):\n",
    "    folder_path, list_images = args\n",
    "    deleted_count = 0\n",
    "    for filename in list_images:\n",
    "        if filename.endswith('.png'):\n",
    "            image_path = os.path.join(folder_path, filename)\n",
    "            if is_image_broken(image_path):\n",
    "                os.remove(image_path)\n",
    "                deleted_count += 1\n",
    "    print(deleted_count)\n",
    "\n",
    "\n",
    "folder_path = 'dataset/images'\n",
    "list_images = os.listdir(folder_path)\n",
    "num_parts = 3\n",
    "parts_list = []\n",
    "lenght_list = len(list_images)\n",
    "\n",
    "point = 0\n",
    "for i in range(1, num_parts+1):\n",
    "    end_part = int(lenght_list * (i/num_parts))\n",
    "    start_part = int(lenght_list * ((i-1)/num_parts))\n",
    "    parts_list.append((folder_path, list_images[start_part:end_part] if i > 1 else list_images[0:end_part]))\n",
    "\n",
    "with Pool(num_parts) as pl:\n",
    "        pl.map(delete_broken_images, parts_list)\n",
    "\n",
    "#delete_broken_images(folder_path, list_images)\n",
    "\n",
    "# fn\n"
   ]
  }
 ],
 "metadata": {
  "kernelspec": {
   "display_name": ".venv",
   "language": "python",
   "name": "python3"
  },
  "language_info": {
   "codemirror_mode": {
    "name": "ipython",
    "version": 3
   },
   "file_extension": ".py",
   "mimetype": "text/x-python",
   "name": "python",
   "nbconvert_exporter": "python",
   "pygments_lexer": "ipython3",
   "version": "3.11.6"
  }
 },
 "nbformat": 4,
 "nbformat_minor": 2
}
