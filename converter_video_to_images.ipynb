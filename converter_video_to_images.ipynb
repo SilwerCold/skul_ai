{
 "cells": [
  {
   "cell_type": "code",
   "execution_count": null,
   "metadata": {},
   "outputs": [],
   "source": [
    "import cv2\n",
    "import os\n",
    "\n",
    "def video_to_frames(video, path_output_dir):\n",
    "    # extract frames from a video and save to directory as 'x.png' where\n",
    "    # x is the frame index\n",
    "    vidcap = cv2.VideoCapture(video)\n",
    "    count = 0\n",
    "    saved_count = 0  # Variable to keep track of saved frames\n",
    "    while vidcap.isOpened():\n",
    "        success, image = vidcap.read()\n",
    "        if success:\n",
    "            if count % 3 == 0:  # Save every 3th frame\n",
    "                cv2.imwrite(os.path.join(path_output_dir, '%d.png') % saved_count, image)\n",
    "                saved_count += 1\n",
    "            count += 1\n",
    "        else:\n",
    "            break\n",
    "    cv2.destroyAllWindows()\n",
    "    vidcap.release()\n",
    "\n",
    "video_to_frames('dataset/video/2023-11-09 13-16-57.mkv', 'dataset/images')\n"
   ]
  },
  {
   "cell_type": "code",
   "execution_count": 1,
   "metadata": {},
   "outputs": [],
   "source": [
    "import cv2\n",
    "import os\n",
    "import concurrent.futures\n",
    "from datetime import datetime\n",
    "\n",
    "def process_video_part(video, path_output_dir, start_frame, end_frame, saved_count):\n",
    "    vidcap = cv2.VideoCapture(video)\n",
    "    count = 0\n",
    "    while count < start_frame:\n",
    "        success, _ = vidcap.read()\n",
    "        count += 1\n",
    "    while count < end_frame and vidcap.isOpened():\n",
    "        success, image = vidcap.read()\n",
    "        if success:\n",
    "            if count % 3 == 0:  # Save every 3rd frame\n",
    "                now = datetime.now().strftime(\"%d.%m.%y_%H:%M:%S.%f\")[:-3]\n",
    "                cv2.imwrite(os.path.join(path_output_dir, f'{now}.png'), image)\n",
    "                saved_count += 1\n",
    "            count += 1\n",
    "        else:\n",
    "            break\n",
    "    vidcap.release()\n",
    "\n",
    "def video_to_frames_parallel(video, path_output_dir, num_parts=2):\n",
    "    vidcap = cv2.VideoCapture(video)\n",
    "    total_frames = int(vidcap.get(cv2.CAP_PROP_FRAME_COUNT))\n",
    "    frames_per_part = total_frames // num_parts\n",
    "    vidcap.release()\n",
    "\n",
    "    with concurrent.futures.ProcessPoolExecutor() as executor:\n",
    "        futures = []\n",
    "        saved_count = 0\n",
    "        for i in range(num_parts):\n",
    "            start_frame = i * frames_per_part\n",
    "            end_frame = (i + 1) * frames_per_part if i < num_parts - 1 else total_frames\n",
    "            futures.append(executor.submit(process_video_part, video, path_output_dir, start_frame, end_frame, saved_count))\n",
    "            saved_count += (end_frame - start_frame) // 3\n",
    "\n",
    "        for future in concurrent.futures.as_completed(futures):\n",
    "            future.result()\n",
    "\n",
    "    cv2.destroyAllWindows()\n",
    "\n",
    "video_to_frames_parallel('dataset/video/2023-11-09 13-16-57.mkv', 'dataset/images', num_parts=2)\n"
   ]
  }
 ],
 "metadata": {
  "kernelspec": {
   "display_name": ".venv",
   "language": "python",
   "name": "python3"
  },
  "language_info": {
   "codemirror_mode": {
    "name": "ipython",
    "version": 3
   },
   "file_extension": ".py",
   "mimetype": "text/x-python",
   "name": "python",
   "nbconvert_exporter": "python",
   "pygments_lexer": "ipython3",
   "version": "3.11.6"
  }
 },
 "nbformat": 4,
 "nbformat_minor": 2
}
