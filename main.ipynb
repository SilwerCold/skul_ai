{
 "cells": [
  {
   "cell_type": "code",
   "execution_count": 1,
   "metadata": {},
   "outputs": [],
   "source": [
    "import io\n",
    "import cv2 as cv2\n",
    "import numpy as np\n",
    "from IPython.display import clear_output, Image, display\n",
    "import PIL.Image\n",
    "from matplotlib import pyplot as plt\n",
    "from numpy import load"
   ]
  },
  {
   "cell_type": "markdown",
   "metadata": {},
   "source": [
    "показываем картинку"
   ]
  },
  {
   "cell_type": "code",
   "execution_count": 2,
   "metadata": {},
   "outputs": [],
   "source": [
    "def image_show(img):\n",
    "    scale_percent = 60\n",
    "    width = int(img.shape[1] * scale_percent / 100)\n",
    "    height = int(img.shape[0] * scale_percent / 100)\n",
    "    dm = (width, height)\n",
    "    img = cv2.resize(img, dm, interpolation = cv2.INTER_AREA)\n",
    "\n",
    "    cv2.imshow(\"Result\", img)  #желтый - 255,235,0; зеленый - 0,255,0; красныый - 255, 0, 0, голубой - 0,246,255\n",
    "    cv2.waitKey(0)\n",
    "    cv2.destroyAllWindows()"
   ]
  },
  {
   "cell_type": "markdown",
   "metadata": {},
   "source": [
    "Цикл, который перебирает пороги"
   ]
  },
  {
   "cell_type": "code",
   "execution_count": 3,
   "metadata": {},
   "outputs": [],
   "source": [
    "def thresh(img):\n",
    "    lst = [i for i in range(1,200+20,20)]\n",
    "    for x in lst:\n",
    "        ret,th1 = cv2.threshold(img,x,255,cv2.THRESH_BINARY)\n",
    "        #plt.imshow(th1,'gray')\n",
    "        titles = ['Original Image', 'Global Thresholding v='+str(x)]\n",
    "        images = [img, th1]\n",
    "        for i in range(2):\n",
    "            plt.subplot(1,2,i+1),plt.imshow(images[i],'gray')\n",
    "            plt.title(titles[i])\n",
    "            plt.xticks([]),plt.yticks([])\n",
    "        plt.show()"
   ]
  },
  {
   "cell_type": "code",
   "execution_count": 4,
   "metadata": {},
   "outputs": [],
   "source": [
    "def contour_find(image1,parameter1, parameter2):\n",
    "    img_gray1 = cv2.cvtColor(image1, cv2.COLOR_BGR2GRAY)\n",
    "    ret, thresh1 = cv2.threshold(img_gray1, parameter1, parameter2, cv2.THRESH_BINARY)\n",
    "    contours2, hierarchy2 = cv2.findContours(thresh1, cv2.RETR_TREE,\n",
    "                                                   cv2.CHAIN_APPROX_SIMPLE)\n",
    "    image_copy2 = image1.copy()\n",
    "    cv2.drawContours(image_copy2, contours2, -1, (0, 255, 0), 2, cv2.LINE_AA)\n",
    "    return image_copy2"
   ]
  },
  {
   "cell_type": "code",
   "execution_count": 5,
   "metadata": {},
   "outputs": [],
   "source": [
    "def find_skul(img):\n",
    "    skul_1 = np.array([198, 204, 184])\n",
    "    skul_2 = np.array([229, 229, 229])\n",
    "    mask = cv2.inRange(img, skul_1, skul_2)\n",
    "    result = cv2.bitwise_and(img, img, mask=mask)\n",
    "    return result"
   ]
  },
  {
   "cell_type": "markdown",
   "metadata": {},
   "source": [
    "424 - 482 высота модельки\n",
    "433 - 440, 811 - 816 - глаз"
   ]
  },
  {
   "cell_type": "code",
   "execution_count": 6,
   "metadata": {},
   "outputs": [],
   "source": [
    "def get_eye(img):\n",
    "    eye = img[433:440, 811:817]\n",
    "    print(eye)\n",
    "    #eye = cv2.cvtColor(eye, cv2.COLOR_RGB2GRAY)\n",
    "    cv2.imwrite('screens/eye.png',eye)\n",
    "    image_show(eye)\n",
    "    return eye"
   ]
  },
  {
   "cell_type": "code",
   "execution_count": 7,
   "metadata": {},
   "outputs": [],
   "source": [
    "def get_model(img):\n",
    "    img_g = cv2.cvtColor(img, cv2.COLOR_RGB2GRAY).astype(np.float32)\n",
    "    eye = cv2.imread('screens/eye.png')\n",
    "    eye = cv2.cvtColor(eye, cv2.COLOR_RGB2GRAY)\n",
    "    result = cv2.matchTemplate(img_g, eye.astype(np.float32), cv2.TM_CCOEFF_NORMED)\n",
    "    min_val, max_val, min_loc, max_loc = cv2.minMaxLoc(result)\n",
    "    threshold = 0.8  # Adjust this value based on your specific use case\n",
    "\n",
    "    if max_val >= threshold:\n",
    "        print(\"ROI is present in the original image.\")\n",
    "    else:\n",
    "        print(\"ROI is not present in the original image.\")"
   ]
  },
  {
   "cell_type": "code",
   "execution_count": 8,
   "metadata": {},
   "outputs": [
    {
     "name": "stdout",
     "output_type": "stream",
     "text": [
      "[[[145 195 255]\n",
      "  [145 195 255]\n",
      "  [145 195 255]\n",
      "  [145 195 255]\n",
      "  [145 195 255]\n",
      "  [145 195 255]]\n",
      "\n",
      " [[145 195 255]\n",
      "  [145 195 255]\n",
      "  [145 195 255]\n",
      "  [145 195 255]\n",
      "  [145 195 255]\n",
      "  [145 195 255]]\n",
      "\n",
      " [[145 195 255]\n",
      "  [145 195 255]\n",
      "  [145 195 255]\n",
      "  [145 195 255]\n",
      "  [145 195 255]\n",
      "  [145 195 255]]\n",
      "\n",
      " [[145 195 255]\n",
      "  [145 195 255]\n",
      "  [145 195 255]\n",
      "  [145 195 255]\n",
      "  [145 195 255]\n",
      "  [145 195 255]]\n",
      "\n",
      " [[145 195 255]\n",
      "  [145 195 255]\n",
      "  [145 195 255]\n",
      "  [145 195 255]\n",
      "  [145 195 255]\n",
      "  [145 195 255]]\n",
      "\n",
      " [[145 195 255]\n",
      "  [145 195 255]\n",
      "  [145 195 255]\n",
      "  [145 195 255]\n",
      "  [145 195 255]\n",
      "  [145 195 255]]\n",
      "\n",
      " [[145 195 255]\n",
      "  [145 195 255]\n",
      "  [145 195 255]\n",
      "  [145 195 255]\n",
      "  [145 195 255]\n",
      "  [145 195 255]]]\n"
     ]
    }
   ],
   "source": [
    "image = cv2.imread('screens/ikran.png')\n",
    "image = cv2.cvtColor(image, cv2.COLOR_BGR2RGB)\n",
    "image_show(image)\n",
    "eye = get_eye(image)\n",
    "contours = contour_find(image, 60, 255)\n",
    "#image_show(contours)\n",
    "\n",
    "\n",
    "get_model(image)\n"
   ]
  }
 ],
 "metadata": {
  "kernelspec": {
   "display_name": ".venv",
   "language": "python",
   "name": "python3"
  },
  "language_info": {
   "codemirror_mode": {
    "name": "ipython",
    "version": 3
   },
   "file_extension": ".py",
   "mimetype": "text/x-python",
   "name": "python",
   "nbconvert_exporter": "python",
   "pygments_lexer": "ipython3",
   "version": "3.11.6"
  }
 },
 "nbformat": 4,
 "nbformat_minor": 2
}
